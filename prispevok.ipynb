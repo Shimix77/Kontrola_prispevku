{
 "cells": [
  {
   "cell_type": "code",
   "execution_count": 1,
   "metadata": {},
   "outputs": [],
   "source": [
    "import pandas as pd"
   ]
  },
  {
   "cell_type": "code",
   "execution_count": 2,
   "metadata": {},
   "outputs": [],
   "source": [
    "zoznam = pd.read_csv('zoznam.csv',delimiter=';')"
   ]
  },
  {
   "cell_type": "code",
   "execution_count": 3,
   "metadata": {},
   "outputs": [
    {
     "data": {
      "text/html": [
       "<div>\n",
       "<style scoped>\n",
       "    .dataframe tbody tr th:only-of-type {\n",
       "        vertical-align: middle;\n",
       "    }\n",
       "\n",
       "    .dataframe tbody tr th {\n",
       "        vertical-align: top;\n",
       "    }\n",
       "\n",
       "    .dataframe thead th {\n",
       "        text-align: right;\n",
       "    }\n",
       "</style>\n",
       "<table border=\"1\" class=\"dataframe\">\n",
       "  <thead>\n",
       "    <tr style=\"text-align: right;\">\n",
       "      <th></th>\n",
       "      <th>STRANKA</th>\n",
       "      <th>RATING</th>\n",
       "    </tr>\n",
       "  </thead>\n",
       "  <tbody>\n",
       "    <tr>\n",
       "      <th>0</th>\n",
       "      <td>vigilantcitizen.com</td>\n",
       "      <td>9.8</td>\n",
       "    </tr>\n",
       "    <tr>\n",
       "      <th>1</th>\n",
       "      <td>protiprudu.org</td>\n",
       "      <td>9.8</td>\n",
       "    </tr>\n",
       "    <tr>\n",
       "      <th>2</th>\n",
       "      <td>aeronet.news</td>\n",
       "      <td>9.7</td>\n",
       "    </tr>\n",
       "    <tr>\n",
       "      <th>3</th>\n",
       "      <td>biblik.sk</td>\n",
       "      <td>9.7</td>\n",
       "    </tr>\n",
       "    <tr>\n",
       "      <th>4</th>\n",
       "      <td>orgo-net.blogspot.sk</td>\n",
       "      <td>9.7</td>\n",
       "    </tr>\n",
       "    <tr>\n",
       "      <th>5</th>\n",
       "      <td>aeronet.cz</td>\n",
       "      <td>9.7</td>\n",
       "    </tr>\n",
       "  </tbody>\n",
       "</table>\n",
       "</div>"
      ],
      "text/plain": [
       "                STRANKA  RATING\n",
       "0   vigilantcitizen.com     9.8\n",
       "1        protiprudu.org     9.8\n",
       "2          aeronet.news     9.7\n",
       "3             biblik.sk     9.7\n",
       "4  orgo-net.blogspot.sk     9.7\n",
       "5            aeronet.cz     9.7"
      ]
     },
     "execution_count": 3,
     "metadata": {},
     "output_type": "execute_result"
    }
   ],
   "source": [
    "zoznam.head(6)"
   ]
  },
  {
   "cell_type": "code",
   "execution_count": 4,
   "metadata": {},
   "outputs": [
    {
     "name": "stdout",
     "output_type": "stream",
     "text": [
      "cz24.news\n"
     ]
    },
    {
     "data": {
      "text/plain": [
       "9.0"
      ]
     },
     "execution_count": 4,
     "metadata": {},
     "output_type": "execute_result"
    }
   ],
   "source": [
    "#url = \"https://www.aktuality.sk/clanok/nqeQUEP/minister-hospodarstva-richard-sulik-je-ochotny-platit-za-plyn-aj-v-rubloch/\"\n",
    "url = \"https://cz24.news/tak-toto-jen-tak-nevymyslis-komparz-dela-mrtvoly-ktere-mely-zahynout-behem-utoku-ruska-video/\"\n",
    "#url = \"www.prot2prudu.org/jan-rys-hilsneriada-a-tgm/\"\n",
    "#url = \"prot3prudu.org/jan-rys-hilsneriada-a-tgm/\"\n",
    "\n",
    "#url = \"https://slovenskoaktualne.sk/spravy/putin-a-lavrov-prirovnali-zapad-k-nacistickemu-nemecku/\"\n",
    "\n",
    "https = \"https://\"\n",
    "www = \"www.\"\n",
    "\n",
    "if https in url:\n",
    "    new_url = url.split(https)[1]\n",
    "    edited_url = new_url.split('/')[0]\n",
    "    if www in new_url:\n",
    "        new_new_url = new_url.split('www.')[1]\n",
    "        new_new_new_url = new_new_url.split('/')[0]\n",
    "        edited_url = new_new_new_url\n",
    "elif www in url:\n",
    "    new_url = url.split('www.')[1]\n",
    "    new_new_url = new_url.split('/')[0]\n",
    "    edited_url = new_new_url\n",
    "    \n",
    "else:\n",
    "    new_url = url.split('/')[0]\n",
    "    edited_url = new_url\n",
    "\n",
    "def find_value(l, value):\n",
    "    for i in l:\n",
    "        if i == value:\n",
    "            return zoznam.loc[zoznam[\"STRANKA\"]==edited_url,\"RATING\"].iloc[0]\n",
    "    return print(\"Daná stránka sa nenachádza v našom zozname, čo môže znamenať - že daná stránka je spoľahlivá alebo ju nemáme len v zozname.\")\n",
    "\n",
    "print(edited_url)\n",
    "find_value(zoznam[\"STRANKA\"],edited_url)\n",
    "\n"
   ]
  },
  {
   "cell_type": "code",
   "execution_count": null,
   "metadata": {},
   "outputs": [],
   "source": []
  }
 ],
 "metadata": {
  "kernelspec": {
   "display_name": "Python 3",
   "language": "python",
   "name": "python3"
  },
  "language_info": {
   "codemirror_mode": {
    "name": "ipython",
    "version": 3
   },
   "file_extension": ".py",
   "mimetype": "text/x-python",
   "name": "python",
   "nbconvert_exporter": "python",
   "pygments_lexer": "ipython3",
   "version": "3.8.6"
  }
 },
 "nbformat": 4,
 "nbformat_minor": 4
}
