{
 "cells": [
  {
   "cell_type": "markdown",
   "metadata": {},
   "source": [
    "# Dezinformačný web? 💡 (Zdroj: konspiratori.sk)\n",
    "\n",
    "##### Na tejto podstránke si môžeš overiť, či náhodou článok, ktorý práve čítaš - nepochádza z konšpiračného webu\n",
    "\n",
    "##### *Nezabudni, že pri prvom spustení je potrebné spustiť všetky jednotlivé riadky kódu (sú označené číslami v hranatých zátvorkach):\n",
    "##### **Jednotlivé riadky kódu spustíš pomocou symbolu \"►\", ktorý nájdeš vo vrchnej lište:"
   ]
  },
  {
   "cell_type": "code",
   "execution_count": 25,
   "metadata": {},
   "outputs": [
    {
     "name": "stdout",
     "output_type": "stream",
     "text": [
      "Requirement already satisfied: pandas in /opt/conda/lib/python3.8/site-packages (1.1.4)\n",
      "Requirement already satisfied: python-dateutil>=2.7.3 in /opt/conda/lib/python3.8/site-packages (from pandas) (2.8.1)\n",
      "Requirement already satisfied: pytz>=2017.2 in /opt/conda/lib/python3.8/site-packages (from pandas) (2020.4)\n",
      "Requirement already satisfied: numpy>=1.15.4 in /opt/conda/lib/python3.8/site-packages (from pandas) (1.19.4)\n",
      "Requirement already satisfied: six>=1.5 in /opt/conda/lib/python3.8/site-packages (from python-dateutil>=2.7.3->pandas) (1.15.0)\n",
      "Note: you may need to restart the kernel to use updated packages.\n"
     ]
    }
   ],
   "source": [
    "pip install pandas"
   ]
  },
  {
   "cell_type": "markdown",
   "metadata": {},
   "source": [
    "### Do úvodzoviek zadaj link článku, ktorého web chceš overiť:\n",
    "##### Koeficient nespoľahlivosti (10 - nespoľahlivý; 1  - spoľahlivý)"
   ]
  },
  {
   "cell_type": "code",
   "execution_count": 26,
   "metadata": {},
   "outputs": [],
   "source": [
    "url = \"https://cz24.news/tak-toto-jen-tak-nevymyslis-komparz-dela-mrtvoly-ktere-mely-zahynout-behem-utoku-ruska-video/\""
   ]
  },
  {
   "cell_type": "code",
   "execution_count": 27,
   "metadata": {},
   "outputs": [
    {
     "name": "stdout",
     "output_type": "stream",
     "text": [
      "Web --> cz24.news <-- pochádza zo zoznamu konšpiračných webov a jeho koeficient nespoľahlivosti dosiahol úroveň:  9.0\n"
     ]
    }
   ],
   "source": [
    "import pandas as pd\n",
    "zoznam = pd.read_csv('zoznam.csv',delimiter=';')\n",
    "\n",
    "https = \"https://\"\n",
    "www = \"www.\"\n",
    "\n",
    "if https in url:\n",
    "    new_url = url.split(https)[1]\n",
    "    edited_url = new_url.split('/')[0]\n",
    "    if www in new_url:\n",
    "        new_new_url = new_url.split('www.')[1]\n",
    "        new_new_new_url = new_new_url.split('/')[0]\n",
    "        edited_url = new_new_new_url\n",
    "elif www in url:\n",
    "    new_url = url.split('www.')[1]\n",
    "    new_new_url = new_url.split('/')[0]\n",
    "    edited_url = new_new_url\n",
    "    \n",
    "else:\n",
    "    new_url = url.split('/')[0]\n",
    "    edited_url = new_url\n",
    "\n",
    "def find_value(value):\n",
    "    for i in zoznam[\"STRANKA\"]:\n",
    "        if i == value:\n",
    "            return print(\"Web -->\",edited_url,\"<-- pochádza zo zoznamu konšpiračných webov a jeho koeficient nespoľahlivosti dosiahol úroveň: \" ,zoznam.loc[zoznam[\"STRANKA\"]==edited_url,\"RATING\"].iloc[0])\n",
    "    return print(\"Daný web sa nenachádza v našom zozname, čo môže znamenať - že daná stránka je spoľahlivá alebo ju nemáme len v zozname.\")\n",
    "\n",
    "find_value(edited_url)"
   ]
  }
 ],
 "metadata": {
  "kernelspec": {
   "display_name": "Python 3",
   "language": "python",
   "name": "python3"
  },
  "language_info": {
   "codemirror_mode": {
    "name": "ipython",
    "version": 3
   },
   "file_extension": ".py",
   "mimetype": "text/x-python",
   "name": "python",
   "nbconvert_exporter": "python",
   "pygments_lexer": "ipython3",
   "version": "3.8.6"
  }
 },
 "nbformat": 4,
 "nbformat_minor": 4
}
